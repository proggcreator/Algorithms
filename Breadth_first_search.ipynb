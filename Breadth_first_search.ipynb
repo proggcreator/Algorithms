{
 "cells": [
  {
   "cell_type": "code",
   "execution_count": 42,
   "metadata": {},
   "outputs": [],
   "source": [
    "from collections import deque\n",
    "def bfs (graph,root): #graph with top\n",
    "    main_list = []    #list of distinct elements\n",
    "    dq = deque()\n",
    "    dq +=graph[root]\n",
    "    print(dq)\n",
    "    while dq:\n",
    "        elem = dq.popleft()\n",
    "        print(dq)\n",
    "        if not elem in main_list:\n",
    "            if elem_right(elem):\n",
    "                print (\"Vertex found: {}\".format(elem))\n",
    "                return True\n",
    "            else:\n",
    "                dq +=graph[elem]\n",
    "                main_list.append(elem)\n",
    "    return False"
   ]
  },
  {
   "cell_type": "code",
   "execution_count": null,
   "metadata": {},
   "outputs": [],
   "source": []
  }
 ],
 "metadata": {
  "kernelspec": {
   "display_name": "Python 3",
   "language": "python",
   "name": "python3"
  },
  "language_info": {
   "codemirror_mode": {
    "name": "ipython",
    "version": 3
   },
   "file_extension": ".py",
   "mimetype": "text/x-python",
   "name": "python",
   "nbconvert_exporter": "python",
   "pygments_lexer": "ipython3",
   "version": "3.7.6"
  }
 },
 "nbformat": 4,
 "nbformat_minor": 4
}
